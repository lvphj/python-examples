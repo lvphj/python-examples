{
 "cells": [
  {
   "cell_type": "code",
   "execution_count": 1,
   "metadata": {
    "collapsed": false
   },
   "outputs": [
    {
     "name": "stdout",
     "output_type": "stream",
     "text": [
      "Using matplotlib backend: MacOSX\n"
     ]
    }
   ],
   "source": [
    "%matplotlib"
   ]
  },
  {
   "cell_type": "markdown",
   "metadata": {},
   "source": [
    "# Example of querying MySQL database"
   ]
  },
  {
   "cell_type": "code",
   "execution_count": 2,
   "metadata": {
    "collapsed": true
   },
   "outputs": [],
   "source": [
    "import numpy as np\n",
    "import pandas as pd"
   ]
  },
  {
   "cell_type": "code",
   "execution_count": 7,
   "metadata": {
    "collapsed": false,
    "scrolled": true
   },
   "outputs": [
    {
     "name": "stdout",
     "output_type": "stream",
     "text": [
      "\n",
      "Query used to interrogate database =\n",
      " (\n",
      "\tSELECT\t'Wales' AS 'country',\n",
      "\t\t\tMAX(`Deprivation_scores_as_at_2016-06`.`WIMD_2014`.`WIMD_2014_Rank`) AS 'number_of_ranks'\n",
      "\tFROM\t`Deprivation_scores_as_at_2016-06`.`WIMD_2014`\n",
      ")\n",
      "UNION\n",
      "(\n",
      "\tSELECT\t'England' AS 'country',\n",
      "\t\t\tMAX(`Deprivation_scores_as_at_2016-06`.`IMD_2015`.`Index_of_Multiple_Deprivation_IMD_Rank`) AS 'number_of_ranks'\n",
      "\tFROM\t`Deprivation_scores_as_at_2016-06`.`IMD_2015`\n",
      ")\n",
      "UNION\n",
      "(\n",
      "\tSELECT\t'Scotland' AS 'country',\n",
      "\t\t\tMAX(`Deprivation_scores_as_at_2016-06`.`SIMD_2012`.`Overall_SIMD_2012_Rank`) AS 'number_of_ranks'\n",
      "\tFROM\t`Deprivation_scores_as_at_2016-06`.`SIMD_2012`\n",
      ")\n",
      "UNION\n",
      "(\n",
      "\tSELECT\t'Northern Ireland' AS 'country',\n",
      "\t\t\tMAX(`Deprivation_scores_as_at_2016-06`.`NIMDM_2010`.`Rank_of_Multiple_Deprivation_Measure_Score`) AS 'number_of_ranks'\n",
      "\tFROM\t`Deprivation_scores_as_at_2016-06`.`NIMDM_2010`\n",
      ") \n",
      "\n",
      "Enter host: savsnetnlp.vets.liv.ac.uk\n",
      "Enter user: lvphj\n",
      "Enter password: ········\n",
      "\n",
      "\n",
      "Query completed\n",
      "Number of rows returned =  4\n"
     ]
    }
   ],
   "source": [
    "import phjMySQLQueries as SQLQueries\n",
    "\n",
    "pathToSQLFolder = '/Users/philjones/Dropbox/phjPythonModules/SAVSNET-GitHub/sql-queries'\n",
    "sqlFileName = 'phjNumberOfDeprivationRanks.mysql'\n",
    "\n",
    "myDF = SQLQueries.phjGetSAVSNETData(phjPathToDirectory = pathToSQLFolder,\n",
    "                                    phjSQLFileName = sqlFileName,\n",
    "                                    phjPrintResults = True)"
   ]
  },
  {
   "cell_type": "code",
   "execution_count": 8,
   "metadata": {
    "collapsed": false
   },
   "outputs": [
    {
     "name": "stdout",
     "output_type": "stream",
     "text": [
      "            country  number_of_ranks\n",
      "0             Wales             1909\n",
      "1           England            32844\n",
      "2          Scotland             6505\n",
      "3  Northern Ireland              890\n"
     ]
    }
   ],
   "source": [
    "print(myDF)"
   ]
  },
  {
   "cell_type": "code",
   "execution_count": null,
   "metadata": {
    "collapsed": true
   },
   "outputs": [],
   "source": []
  }
 ],
 "metadata": {
  "kernelspec": {
   "display_name": "Python 3",
   "language": "python",
   "name": "python3"
  },
  "language_info": {
   "codemirror_mode": {
    "name": "ipython",
    "version": 3
   },
   "file_extension": ".py",
   "mimetype": "text/x-python",
   "name": "python",
   "nbconvert_exporter": "python",
   "pygments_lexer": "ipython3",
   "version": "3.4.1"
  }
 },
 "nbformat": 4,
 "nbformat_minor": 0
}
