{
 "cells": [
  {
   "cell_type": "markdown",
   "metadata": {},
   "source": [
    "# Create timetable calendar from Excel spreadsheet"
   ]
  },
  {
   "cell_type": "markdown",
   "metadata": {},
   "source": [
    "This code takes a named cell range in an Excel spreadsheet and produces a ics calendar file."
   ]
  },
  {
   "cell_type": "code",
   "execution_count": 1,
   "metadata": {
    "collapsed": false
   },
   "outputs": [],
   "source": [
    "import numpy as np\n",
    "import pandas as pd\n",
    "import openpyxl\n",
    "from icalendar import Calendar, Event, vText, vCalAddress"
   ]
  },
  {
   "cell_type": "markdown",
   "metadata": {},
   "source": [
    "Documentation for iCalendar library can be found at: http://icalendar.readthedocs.io/en/latest/"
   ]
  },
  {
   "cell_type": "code",
   "execution_count": 2,
   "metadata": {
    "collapsed": false
   },
   "outputs": [
    {
     "data": {
      "text/plain": [
       "<module 'phjReadData' from '/Users/philjones/Dropbox/phjPythonModules/PHJ-GitHub/phj_python_modules/phjReadData.py'>"
      ]
     },
     "execution_count": 2,
     "metadata": {},
     "output_type": "execute_result"
    }
   ],
   "source": [
    "# Import function to read data from Excel spreadsheet and load into Pandas dataframe\n",
    "import phjReadData\n",
    "\n",
    "import importlib\n",
    "importlib.reload(phjReadData)"
   ]
  },
  {
   "cell_type": "markdown",
   "metadata": {},
   "source": [
    "## Enter paths and filenames"
   ]
  },
  {
   "cell_type": "code",
   "execution_count": 3,
   "metadata": {
    "collapsed": true
   },
   "outputs": [],
   "source": [
    "phjPath = '/Users/philjones/Documents/python_projects/python34_example_environment_2015-10-30'\n",
    "phjExcelFilename = 'Timetable spreadsheet example.xlsx'\n",
    "phjExcelRangeName = 'timetable'\n",
    "\n",
    "# The following will be used to label calendar events\n",
    "phjCourseHeader = 'COURSE NAME 2016-17'\n",
    "\n",
    "# The following file will be created\n",
    "phjICSFilename = phjCourseHeader + ' calendar.ics'"
   ]
  },
  {
   "cell_type": "markdown",
   "metadata": {},
   "source": [
    "## Read data from Excel spreadsheet"
   ]
  },
  {
   "cell_type": "code",
   "execution_count": 4,
   "metadata": {
    "collapsed": false
   },
   "outputs": [
    {
     "name": "stdout",
     "output_type": "stream",
     "text": [
      "\n",
      "List of iterable properties:\n",
      "['__class__', '__delattr__', '__dir__', '__doc__', '__eq__', '__format__', '__ge__', '__getattribute__', '__gt__', '__hash__', '__init__', '__iter__', '__le__', '__lt__', '__module__', '__ne__', '__new__', '__reduce__', '__reduce_ex__', '__repr__', '__setattr__', '__sizeof__', '__slots__', '__str__', '__subclasshook__', 'destinations', 'localSheetId', 'name', 'repr_format', 'scope', 'str_format', 'value']\n",
      "\n",
      "List of tuples of named ranges and cell ranges\n",
      "[(<ReadOnlyWorksheet \"Sheet1\">, '$A$5:$L$31')]\n",
      "\n",
      "First tuple of named ranges and cell range\n",
      "(<ReadOnlyWorksheet \"Sheet1\">, '$A$5:$L$31')\n",
      "\n",
      "Cell range\n",
      "$A$5:$L$31\n",
      "\n",
      "Local Sheet ID\n",
      "<ReadOnlyWorksheet \"Sheet1\">\n",
      "\n",
      "First row (containing variable names) has been removed from the data.\n",
      "var 1 :  date\n",
      "var 2 :  day_number\n",
      "var 3 :  week_number\n",
      "var 4 :  time_string\n",
      "var 5 :  start_time\n",
      "var 6 :  end_time\n",
      "var 7 :  number_hours\n",
      "var 8 :  room\n",
      "var 9 :  type\n",
      "var 10 :  title\n",
      "var 11 :  staff\n",
      "var 12 :  comments\n",
      "\n",
      "Imported data\n",
      "-------------\n",
      "          date  day_number  week_number            time_string start_time  \\\n",
      "0   2016-10-10           1            1                    NaN        NaN   \n",
      "1   2016-10-11           2            1     4:00 pm to 5:00 pm    4:00 pm   \n",
      "2   2016-10-12           3            1   11:00 am to 12:00 pm   11:00 am   \n",
      "3   2016-10-13           4            1                    NaN        NaN   \n",
      "4   2016-10-14           5            1   10:00 am to 11:00 am   10:00 am   \n",
      "5   2016-10-17           1            2                    NaN        NaN   \n",
      "6   2016-10-18           2            2     3:00 pm to 4:00 pm    3:00 pm   \n",
      "7   2016-10-19           3            2  11:00 am to 12:00  pm   11:00 am   \n",
      "8   2016-10-20           4            2    9:00 am to 10:00 am    9:00 am   \n",
      "9   2016-10-20           4            2   10:00 am to 11:00 am   10:00 am   \n",
      "10  2016-10-20           4            2  11:00 am to 12:00  pm   11:00 am   \n",
      "11  2016-10-21           5            2    9:00 am to 10:00 am    9:00 am   \n",
      "12  2016-10-24           1            3  10:00 am to 12:00  pm   10:00 am   \n",
      "13  2016-10-24           1            3     2:00 pm to 4:00 pm    2:00 pm   \n",
      "14  2016-10-24           1            3     3:00 pm to 5:00 pm    3:00 pm   \n",
      "15  2016-10-25           2            3    9:00 am to 11:00 am    9:00 am   \n",
      "16  2016-10-25           2            3    11:00 am to 1:00 pm   11:00 am   \n",
      "17  2016-10-25           2            3    11:00 am to 1:00 pm   11:00 am   \n",
      "18  2016-10-25           2            3  11:00 am to 12:00  pm   11:00 am   \n",
      "19  2016-10-25           2            3   12:00  pm to 1:00 pm  12:00  pm   \n",
      "20  2016-10-25           2            3     1:00 pm to 2:00 pm    1:00 pm   \n",
      "21  2016-10-26           3            3                    NaN        NaN   \n",
      "22  2016-10-27           4            3                    NaN        NaN   \n",
      "23  2016-10-28           5            3  11:00 am to 12:00  pm   11:00 am   \n",
      "24  2016-10-28           5            3   12:00  pm to 1:00 pm  12:00  pm   \n",
      "25  2016-10-28           5            3     1:00 pm to 2:00 pm    1:00 pm   \n",
      "\n",
      "     end_time  number_hours room           type                 title  \\\n",
      "0         NaN           NaN  NaN            NaN                   NaN   \n",
      "1     5:00 pm             1  TBA        LECTURE             Lecture 1   \n",
      "2    12:00 pm             1  TBA        LECTURE             Lecture 2   \n",
      "3         NaN           NaN  NaN            NaN                   NaN   \n",
      "4    11:00 am             1  TBA        LECTURE             Lecture 3   \n",
      "5         NaN           NaN  NaN            NaN                   NaN   \n",
      "6     4:00 pm             1  TBA        LECTURE             Lecture 4   \n",
      "7   12:00  pm             1  TBA        LECTURE             Lecture 5   \n",
      "8    10:00 am             1  TBA       WORKSHOP            Workshop A   \n",
      "9    11:00 am             1  TBA       WORKSHOP            Workshop B   \n",
      "10  12:00  pm             1  TBA       WORKSHOP            Workshop C   \n",
      "11   10:00 am             1  TBA        LECTURE             Lecture 6   \n",
      "12  12:00  pm             2  TBA  PRIVATE STUDY           Preparation   \n",
      "13    4:00 pm             2  TBA  PRIVATE STUDY           Preparation   \n",
      "14    5:00 pm             2  TBA  PRIVATE STUDY           Preparation   \n",
      "15   11:00 am             2  TBA  PRIVATE STUDY           Preparation   \n",
      "16    1:00 pm             2  TBA  PRIVATE STUDY           Preparation   \n",
      "17    1:00 pm             2  TBA  PRIVATE STUDY           Preparation   \n",
      "18  12:00  pm             1  TBA       TUTORIAL  Tutorial 1 (group A)   \n",
      "19    1:00 pm             1  TBA       TUTORIAL  Tutorial 1 (group B)   \n",
      "20    2:00 pm             1  TBA       TUTORIAL  Tutorial 1 (group C)   \n",
      "21        NaN           NaN  NaN            NaN                   NaN   \n",
      "22        NaN           NaN  NaN            NaN                   NaN   \n",
      "23  12:00  pm             1  TBA       TUTORIAL  Tutorial 1 (group D)   \n",
      "24    1:00 pm             1  TBA       TUTORIAL  Tutorial 1 (group E)   \n",
      "25    2:00 pm             1  TBA       TUTORIAL  Tutorial 1 (group F)   \n",
      "\n",
      "        staff  comments  \n",
      "0         NaN       NaN  \n",
      "1   A.N.Other       NaN  \n",
      "2   A.N.Other       NaN  \n",
      "3         NaN       NaN  \n",
      "4   A.N.Other       NaN  \n",
      "5         NaN       NaN  \n",
      "6   A.N.Other       NaN  \n",
      "7   A.N.Other       NaN  \n",
      "8         NaN       NaN  \n",
      "9         NaN       NaN  \n",
      "10        NaN       NaN  \n",
      "11  A.N.Other       NaN  \n",
      "12        NaN       NaN  \n",
      "13        NaN       NaN  \n",
      "14        NaN       NaN  \n",
      "15        NaN       NaN  \n",
      "16        NaN       NaN  \n",
      "17        NaN       NaN  \n",
      "18        NaN       NaN  \n",
      "19        NaN       NaN  \n",
      "20        NaN       NaN  \n",
      "21        NaN       NaN  \n",
      "22        NaN       NaN  \n",
      "23        NaN       NaN  \n",
      "24        NaN       NaN  \n",
      "25        NaN       NaN  \n"
     ]
    }
   ],
   "source": [
    "phjTimetableDF = phjReadData.phjReadDataFromExcelNamedCellRange(phjExcelFileName = '/'.join([phjPath,phjExcelFilename]),\n",
    "                                                                phjExcelRangeName = phjExcelRangeName,\n",
    "                                                                phjDatetimeFormat = \"%Y-%m-%d\",\n",
    "                                                                phjMissingValue = np.nan,\n",
    "                                                                phjHeaderRow = True,\n",
    "                                                                phjPrintResults = True)"
   ]
  },
  {
   "cell_type": "code",
   "execution_count": 5,
   "metadata": {
    "collapsed": true
   },
   "outputs": [],
   "source": [
    "phjTimetableDF['date'] = pd.to_datetime(phjTimetableDF['date'])"
   ]
  },
  {
   "cell_type": "markdown",
   "metadata": {},
   "source": [
    "Remove rows where no time_string information is set (i.e. no lecture takeing place)"
   ]
  },
  {
   "cell_type": "code",
   "execution_count": 6,
   "metadata": {
    "collapsed": false
   },
   "outputs": [
    {
     "name": "stdout",
     "output_type": "stream",
     "text": [
      "         date  day_number   ...         staff comments\n",
      "0  2016-10-11           2   ...     A.N.Other      NaN\n",
      "1  2016-10-12           3   ...     A.N.Other      NaN\n",
      "2  2016-10-14           5   ...     A.N.Other      NaN\n",
      "3  2016-10-18           2   ...     A.N.Other      NaN\n",
      "4  2016-10-19           3   ...     A.N.Other      NaN\n",
      "..        ...         ...   ...           ...      ...\n",
      "16 2016-10-25           2   ...           NaN      NaN\n",
      "17 2016-10-25           2   ...           NaN      NaN\n",
      "18 2016-10-28           5   ...           NaN      NaN\n",
      "19 2016-10-28           5   ...           NaN      NaN\n",
      "20 2016-10-28           5   ...           NaN      NaN\n",
      "\n",
      "[21 rows x 12 columns]\n"
     ]
    }
   ],
   "source": [
    "phjTimetableDF = phjTimetableDF[phjTimetableDF['time_string'].notnull()].reset_index(drop = True)\n",
    "\n",
    "with pd.option_context('display.max_rows', 10, 'display.max_columns', 5):\n",
    "    print(phjTimetableDF)"
   ]
  },
  {
   "cell_type": "code",
   "execution_count": 7,
   "metadata": {
    "collapsed": true
   },
   "outputs": [],
   "source": [
    "cal = Calendar()"
   ]
  },
  {
   "cell_type": "code",
   "execution_count": 8,
   "metadata": {
    "collapsed": false
   },
   "outputs": [],
   "source": [
    "cal.add('prodid', '-//Python iCalendar timetable//')\n",
    "cal.add('version', '2.0')\n",
    "organizer = vCalAddress('MAILTO:p.h.jones@liverpool.ac.uk')\n",
    "organizer.params['cn'] = vText('Phil Jones')\n",
    "organizer.params['role'] = vText('Lecturer')\n",
    "\n",
    "# UID will be (arbitrarily) constucted using datetime of start event, title\n",
    "# of event and the label given below to provide human-readable code.\n",
    "# Actually, by creating a UID that will be duplicated if the script is re-run,\n",
    "# the old items in the calendar will be replaced if the .ics file is added.\n",
    "# Therefore, didn't create a UID using datetime of 'now'.\n",
    "# Equally, it is important that different event that overlap don't have the\n",
    "# same UiD, hence include the title of the event to ensure UIDs are different.\n",
    "phjEventUIDLabel = 'vsci100_2016-17_ephw_sem1@liv.ac.uk'\n",
    "\n",
    "for index, row in phjTimetableDF.iterrows():\n",
    "    \n",
    "    # Create event in calendar object\n",
    "    event = Event()\n",
    "    \n",
    "    # Add properties to event\n",
    "    event.add('organizer', organizer)\n",
    "    \n",
    "    # See above note about creating UIDs for events\n",
    "    event.add('uid', '/'.join([pd.to_datetime(row['date'].strftime('%Y-%m-%d') + ' ' + row['start_time']).strftime('%Y%m%d%H%M%S'),\n",
    "                               row['title'],\n",
    "                               phjEventUIDLabel]))\n",
    "    \n",
    "    if pd.isnull(row['staff']):\n",
    "        event.add('summary', phjCourseHeader + ' ' + row['type'] + ' - ' + row['title'])\n",
    "    else:\n",
    "        event.add('summary', phjCourseHeader + ' ' + row['type'] + ' - ' + row['title'] + ' (' + row['staff'] + ')')\n",
    "        \n",
    "    event.add('dtstart', pd.Timestamp(row['date'].strftime('%Y-%m-%d') + ' ' + row['start_time'], tz='Europe/London'))\n",
    "    event.add('dtend',   pd.Timestamp(row['date'].strftime('%Y-%m-%d') + ' ' + row['end_time'], tz='Europe/London'))\n",
    "    event.add('location', row['room'])\n",
    "    \n",
    "    # Add event to calendar\n",
    "    cal.add_component(event)"
   ]
  },
  {
   "cell_type": "code",
   "execution_count": 9,
   "metadata": {
    "collapsed": false,
    "scrolled": true
   },
   "outputs": [
    {
     "name": "stdout",
     "output_type": "stream",
     "text": [
      "b'BEGIN:VCALENDAR\\r\\nVERSION:2.0\\r\\nPRODID:-//Python iCalendar timetable//\\r\\nBEGIN:VEVENT\\r\\nSUMMARY:COURSE NAME 2016-17 LECTURE - Lecture 1 (A.N.Other)\\r\\nDTSTART;TZID=Europe/London;VALUE=DATE-TIME:20161011T160000\\r\\nDTEND;TZID=Europe/London;VALUE=DATE-TIME:20161011T170000\\r\\nUID:20161011160000/Lecture 1/vsci100_2016-17_ephw_sem1@liv.ac.uk\\r\\nLOCATION:TBA\\r\\nORGANIZER;CN=\"Phil Jones\";ROLE=Lecturer:MAILTO:p.h.jones@liverpool.ac.uk\\r\\nEND:VEVENT\\r\\nBEGIN:VEVENT\\r\\nSUMMARY:COURSE NAME 2016-17 LECTURE - Lecture 2 (A.N.Other)\\r\\nDTSTART;TZID=Europe/London;VALUE=DATE-TIME:20161012T110000\\r\\nDTEND;TZID=Europe/London;VALUE=DATE-TIME:20161012T120000\\r\\nUID:20161012110000/Lecture 2/vsci100_2016-17_ephw_sem1@liv.ac.uk\\r\\nLOCATION:TBA\\r\\nORGANIZER;CN=\"Phil Jones\";ROLE=Lecturer:MAILTO:p.h.jones@liverpool.ac.uk\\r\\nEND:VEVENT\\r\\nBEGIN:VEVENT\\r\\nSUMMARY:COURSE NAME 2016-17 LECTURE - Lecture 3 (A.N.Other)\\r\\nDTSTART;TZID=Europe/London;VALUE=DATE-TIME:20161014T100000\\r\\nDTEND;TZID=Europe/London;VALUE=DATE-TIME:20161014T110000\\r\\nUID:20161014100000/Lecture 3/vsci100_2016-17_ephw_sem1@liv.ac.uk\\r\\nLOCATION:TBA\\r\\nORGANIZER;CN=\"Phil Jones\";ROLE=Lecturer:MAILTO:p.h.jones@liverpool.ac.uk\\r\\nEND:VEVENT\\r\\nBEGIN:VEVENT\\r\\nSUMMARY:COURSE NAME 2016-17 LECTURE - Lecture 4 (A.N.Other)\\r\\nDTSTART;TZID=Europe/London;VALUE=DATE-TIME:20161018T150000\\r\\nDTEND;TZID=Europe/London;VALUE=DATE-TIME:20161018T160000\\r\\nUID:20161018150000/Lecture 4/vsci100_2016-17_ephw_sem1@liv.ac.uk\\r\\nLOCATION:TBA\\r\\nORGANIZER;CN=\"Phil Jones\";ROLE=Lecturer:MAILTO:p.h.jones@liverpool.ac.uk\\r\\nEND:VEVENT\\r\\nBEGIN:VEVENT\\r\\nSUMMARY:COURSE NAME 2016-17 LECTURE - Lecture 5 (A.N.Other)\\r\\nDTSTART;TZID=Europe/London;VALUE=DATE-TIME:20161019T110000\\r\\nDTEND;TZID=Europe/London;VALUE=DATE-TIME:20161019T120000\\r\\nUID:20161019110000/Lecture 5/vsci100_2016-17_ephw_sem1@liv.ac.uk\\r\\nLOCATION:TBA\\r\\nORGANIZER;CN=\"Phil Jones\";ROLE=Lecturer:MAILTO:p.h.jones@liverpool.ac.uk\\r\\nEND:VEVENT\\r\\nBEGIN:VEVENT\\r\\nSUMMARY:COURSE NAME 2016-17 WORKSHOP - Workshop A\\r\\nDTSTART;TZID=Europe/London;VALUE=DATE-TIME:20161020T090000\\r\\nDTEND;TZID=Europe/London;VALUE=DATE-TIME:20161020T100000\\r\\nUID:20161020090000/Workshop A/vsci100_2016-17_ephw_sem1@liv.ac.uk\\r\\nLOCATION:TBA\\r\\nORGANIZER;CN=\"Phil Jones\";ROLE=Lecturer:MAILTO:p.h.jones@liverpool.ac.uk\\r\\nEND:VEVENT\\r\\nBEGIN:VEVENT\\r\\nSUMMARY:COURSE NAME 2016-17 WORKSHOP - Workshop B\\r\\nDTSTART;TZID=Europe/London;VALUE=DATE-TIME:20161020T100000\\r\\nDTEND;TZID=Europe/London;VALUE=DATE-TIME:20161020T110000\\r\\nUID:20161020100000/Workshop B/vsci100_2016-17_ephw_sem1@liv.ac.uk\\r\\nLOCATION:TBA\\r\\nORGANIZER;CN=\"Phil Jones\";ROLE=Lecturer:MAILTO:p.h.jones@liverpool.ac.uk\\r\\nEND:VEVENT\\r\\nBEGIN:VEVENT\\r\\nSUMMARY:COURSE NAME 2016-17 WORKSHOP - Workshop C\\r\\nDTSTART;TZID=Europe/London;VALUE=DATE-TIME:20161020T110000\\r\\nDTEND;TZID=Europe/London;VALUE=DATE-TIME:20161020T120000\\r\\nUID:20161020110000/Workshop C/vsci100_2016-17_ephw_sem1@liv.ac.uk\\r\\nLOCATION:TBA\\r\\nORGANIZER;CN=\"Phil Jones\";ROLE=Lecturer:MAILTO:p.h.jones@liverpool.ac.uk\\r\\nEND:VEVENT\\r\\nBEGIN:VEVENT\\r\\nSUMMARY:COURSE NAME 2016-17 LECTURE - Lecture 6 (A.N.Other)\\r\\nDTSTART;TZID=Europe/London;VALUE=DATE-TIME:20161021T090000\\r\\nDTEND;TZID=Europe/London;VALUE=DATE-TIME:20161021T100000\\r\\nUID:20161021090000/Lecture 6/vsci100_2016-17_ephw_sem1@liv.ac.uk\\r\\nLOCATION:TBA\\r\\nORGANIZER;CN=\"Phil Jones\";ROLE=Lecturer:MAILTO:p.h.jones@liverpool.ac.uk\\r\\nEND:VEVENT\\r\\nBEGIN:VEVENT\\r\\nSUMMARY:COURSE NAME 2016-17 PRIVATE STUDY - Preparation\\r\\nDTSTART;TZID=Europe/London;VALUE=DATE-TIME:20161024T100000\\r\\nDTEND;TZID=Europe/London;VALUE=DATE-TIME:20161024T120000\\r\\nUID:20161024100000/Preparation/vsci100_2016-17_ephw_sem1@liv.ac.uk\\r\\nLOCATION:TBA\\r\\nORGANIZER;CN=\"Phil Jones\";ROLE=Lecturer:MAILTO:p.h.jones@liverpool.ac.uk\\r\\nEND:VEVENT\\r\\nBEGIN:VEVENT\\r\\nSUMMARY:COURSE NAME 2016-17 PRIVATE STUDY - Preparation\\r\\nDTSTART;TZID=Europe/London;VALUE=DATE-TIME:20161024T140000\\r\\nDTEND;TZID=Europe/London;VALUE=DATE-TIME:20161024T160000\\r\\nUID:20161024140000/Preparation/vsci100_2016-17_ephw_sem1@liv.ac.uk\\r\\nLOCATION:TBA\\r\\nORGANIZER;CN=\"Phil Jones\";ROLE=Lecturer:MAILTO:p.h.jones@liverpool.ac.uk\\r\\nEND:VEVENT\\r\\nBEGIN:VEVENT\\r\\nSUMMARY:COURSE NAME 2016-17 PRIVATE STUDY - Preparation\\r\\nDTSTART;TZID=Europe/London;VALUE=DATE-TIME:20161024T150000\\r\\nDTEND;TZID=Europe/London;VALUE=DATE-TIME:20161024T170000\\r\\nUID:20161024150000/Preparation/vsci100_2016-17_ephw_sem1@liv.ac.uk\\r\\nLOCATION:TBA\\r\\nORGANIZER;CN=\"Phil Jones\";ROLE=Lecturer:MAILTO:p.h.jones@liverpool.ac.uk\\r\\nEND:VEVENT\\r\\nBEGIN:VEVENT\\r\\nSUMMARY:COURSE NAME 2016-17 PRIVATE STUDY - Preparation\\r\\nDTSTART;TZID=Europe/London;VALUE=DATE-TIME:20161025T090000\\r\\nDTEND;TZID=Europe/London;VALUE=DATE-TIME:20161025T110000\\r\\nUID:20161025090000/Preparation/vsci100_2016-17_ephw_sem1@liv.ac.uk\\r\\nLOCATION:TBA\\r\\nORGANIZER;CN=\"Phil Jones\";ROLE=Lecturer:MAILTO:p.h.jones@liverpool.ac.uk\\r\\nEND:VEVENT\\r\\nBEGIN:VEVENT\\r\\nSUMMARY:COURSE NAME 2016-17 PRIVATE STUDY - Preparation\\r\\nDTSTART;TZID=Europe/London;VALUE=DATE-TIME:20161025T110000\\r\\nDTEND;TZID=Europe/London;VALUE=DATE-TIME:20161025T130000\\r\\nUID:20161025110000/Preparation/vsci100_2016-17_ephw_sem1@liv.ac.uk\\r\\nLOCATION:TBA\\r\\nORGANIZER;CN=\"Phil Jones\";ROLE=Lecturer:MAILTO:p.h.jones@liverpool.ac.uk\\r\\nEND:VEVENT\\r\\nBEGIN:VEVENT\\r\\nSUMMARY:COURSE NAME 2016-17 PRIVATE STUDY - Preparation\\r\\nDTSTART;TZID=Europe/London;VALUE=DATE-TIME:20161025T110000\\r\\nDTEND;TZID=Europe/London;VALUE=DATE-TIME:20161025T130000\\r\\nUID:20161025110000/Preparation/vsci100_2016-17_ephw_sem1@liv.ac.uk\\r\\nLOCATION:TBA\\r\\nORGANIZER;CN=\"Phil Jones\";ROLE=Lecturer:MAILTO:p.h.jones@liverpool.ac.uk\\r\\nEND:VEVENT\\r\\nBEGIN:VEVENT\\r\\nSUMMARY:COURSE NAME 2016-17 TUTORIAL - Tutorial 1 (group A)\\r\\nDTSTART;TZID=Europe/London;VALUE=DATE-TIME:20161025T110000\\r\\nDTEND;TZID=Europe/London;VALUE=DATE-TIME:20161025T120000\\r\\nUID:20161025110000/Tutorial 1 (group A)/vsci100_2016-17_ephw_sem1@liv.ac.u\\r\\n k\\r\\nLOCATION:TBA\\r\\nORGANIZER;CN=\"Phil Jones\";ROLE=Lecturer:MAILTO:p.h.jones@liverpool.ac.uk\\r\\nEND:VEVENT\\r\\nBEGIN:VEVENT\\r\\nSUMMARY:COURSE NAME 2016-17 TUTORIAL - Tutorial 1 (group B)\\r\\nDTSTART;TZID=Europe/London;VALUE=DATE-TIME:20161025T120000\\r\\nDTEND;TZID=Europe/London;VALUE=DATE-TIME:20161025T130000\\r\\nUID:20161025120000/Tutorial 1 (group B)/vsci100_2016-17_ephw_sem1@liv.ac.u\\r\\n k\\r\\nLOCATION:TBA\\r\\nORGANIZER;CN=\"Phil Jones\";ROLE=Lecturer:MAILTO:p.h.jones@liverpool.ac.uk\\r\\nEND:VEVENT\\r\\nBEGIN:VEVENT\\r\\nSUMMARY:COURSE NAME 2016-17 TUTORIAL - Tutorial 1 (group C)\\r\\nDTSTART;TZID=Europe/London;VALUE=DATE-TIME:20161025T130000\\r\\nDTEND;TZID=Europe/London;VALUE=DATE-TIME:20161025T140000\\r\\nUID:20161025130000/Tutorial 1 (group C)/vsci100_2016-17_ephw_sem1@liv.ac.u\\r\\n k\\r\\nLOCATION:TBA\\r\\nORGANIZER;CN=\"Phil Jones\";ROLE=Lecturer:MAILTO:p.h.jones@liverpool.ac.uk\\r\\nEND:VEVENT\\r\\nBEGIN:VEVENT\\r\\nSUMMARY:COURSE NAME 2016-17 TUTORIAL - Tutorial 1 (group D)\\r\\nDTSTART;TZID=Europe/London;VALUE=DATE-TIME:20161028T110000\\r\\nDTEND;TZID=Europe/London;VALUE=DATE-TIME:20161028T120000\\r\\nUID:20161028110000/Tutorial 1 (group D)/vsci100_2016-17_ephw_sem1@liv.ac.u\\r\\n k\\r\\nLOCATION:TBA\\r\\nORGANIZER;CN=\"Phil Jones\";ROLE=Lecturer:MAILTO:p.h.jones@liverpool.ac.uk\\r\\nEND:VEVENT\\r\\nBEGIN:VEVENT\\r\\nSUMMARY:COURSE NAME 2016-17 TUTORIAL - Tutorial 1 (group E)\\r\\nDTSTART;TZID=Europe/London;VALUE=DATE-TIME:20161028T120000\\r\\nDTEND;TZID=Europe/London;VALUE=DATE-TIME:20161028T130000\\r\\nUID:20161028120000/Tutorial 1 (group E)/vsci100_2016-17_ephw_sem1@liv.ac.u\\r\\n k\\r\\nLOCATION:TBA\\r\\nORGANIZER;CN=\"Phil Jones\";ROLE=Lecturer:MAILTO:p.h.jones@liverpool.ac.uk\\r\\nEND:VEVENT\\r\\nBEGIN:VEVENT\\r\\nSUMMARY:COURSE NAME 2016-17 TUTORIAL - Tutorial 1 (group F)\\r\\nDTSTART;TZID=Europe/London;VALUE=DATE-TIME:20161028T130000\\r\\nDTEND;TZID=Europe/London;VALUE=DATE-TIME:20161028T140000\\r\\nUID:20161028130000/Tutorial 1 (group F)/vsci100_2016-17_ephw_sem1@liv.ac.u\\r\\n k\\r\\nLOCATION:TBA\\r\\nORGANIZER;CN=\"Phil Jones\";ROLE=Lecturer:MAILTO:p.h.jones@liverpool.ac.uk\\r\\nEND:VEVENT\\r\\nEND:VCALENDAR\\r\\n'\n"
     ]
    }
   ],
   "source": [
    "print(cal.to_ical())"
   ]
  },
  {
   "cell_type": "markdown",
   "metadata": {},
   "source": [
    "Write ical of all events in timetable to file in same location as original Excel file"
   ]
  },
  {
   "cell_type": "code",
   "execution_count": null,
   "metadata": {
    "collapsed": true
   },
   "outputs": [],
   "source": [
    "f = open('/'.join([phjPath,phjICSFilename]),'wb')\n",
    "f.write(cal.to_ical())\n",
    "f.close()"
   ]
  },
  {
   "cell_type": "code",
   "execution_count": null,
   "metadata": {
    "collapsed": true
   },
   "outputs": [],
   "source": []
  }
 ],
 "metadata": {
  "kernelspec": {
   "display_name": "Python 3",
   "language": "python",
   "name": "python3"
  },
  "language_info": {
   "codemirror_mode": {
    "name": "ipython",
    "version": 3
   },
   "file_extension": ".py",
   "mimetype": "text/x-python",
   "name": "python",
   "nbconvert_exporter": "python",
   "pygments_lexer": "ipython3",
   "version": "3.4.1"
  }
 },
 "nbformat": 4,
 "nbformat_minor": 0
}
